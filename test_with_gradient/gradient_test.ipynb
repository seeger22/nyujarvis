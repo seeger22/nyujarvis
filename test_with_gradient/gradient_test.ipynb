{
  "nbformat": 4,
  "nbformat_minor": 0,
  "metadata": {
    "colab": {
      "provenance": []
    },
    "kernelspec": {
      "name": "python3",
      "display_name": "Python 3"
    },
    "language_info": {
      "name": "python"
    }
  },
  "cells": [
    {
      "cell_type": "code",
      "execution_count": 1,
      "metadata": {
        "colab": {
          "base_uri": "https://localhost:8080/"
        },
        "id": "5gXy05v1nWCU",
        "outputId": "80e969df-29e1-40f4-a266-7b31497bfc6d"
      },
      "outputs": [
        {
          "output_type": "stream",
          "name": "stdout",
          "text": [
            "Collecting gradientai\n",
            "  Downloading gradientai-1.2.0-py3-none-any.whl (166 kB)\n",
            "\u001b[2K     \u001b[90m━━━━━━━━━━━━━━━━━━━━━━━━━━━━━━━━━━━━━━━━\u001b[0m \u001b[32m166.3/166.3 kB\u001b[0m \u001b[31m4.1 MB/s\u001b[0m eta \u001b[36m0:00:00\u001b[0m\n",
            "\u001b[?25hCollecting aenum>=3.1.11 (from gradientai)\n",
            "  Downloading aenum-3.1.15-py3-none-any.whl (137 kB)\n",
            "\u001b[2K     \u001b[90m━━━━━━━━━━━━━━━━━━━━━━━━━━━━━━━━━━━━━━━━\u001b[0m \u001b[32m137.6/137.6 kB\u001b[0m \u001b[31m13.0 MB/s\u001b[0m eta \u001b[36m0:00:00\u001b[0m\n",
            "\u001b[?25hRequirement already satisfied: pydantic<2.0.0,>=1.10.5 in /usr/local/lib/python3.10/dist-packages (from gradientai) (1.10.13)\n",
            "Requirement already satisfied: python-dateutil>=2.8.2 in /usr/local/lib/python3.10/dist-packages (from gradientai) (2.8.2)\n",
            "Requirement already satisfied: urllib3>=1.25.3 in /usr/local/lib/python3.10/dist-packages (from gradientai) (2.0.7)\n",
            "Requirement already satisfied: typing-extensions>=4.2.0 in /usr/local/lib/python3.10/dist-packages (from pydantic<2.0.0,>=1.10.5->gradientai) (4.5.0)\n",
            "Requirement already satisfied: six>=1.5 in /usr/local/lib/python3.10/dist-packages (from python-dateutil>=2.8.2->gradientai) (1.16.0)\n",
            "Installing collected packages: aenum, gradientai\n",
            "Successfully installed aenum-3.1.15 gradientai-1.2.0\n"
          ]
        }
      ],
      "source": [
        "!pip install gradientai --upgrade"
      ]
    },
    {
      "cell_type": "code",
      "source": [
        "import os\n",
        "# Remember to revoke after testing\n",
        "os.environ['GRADIENT_ACCESS_TOKEN'] = \"\"\n",
        "os.environ['GRADIENT_WORKSPACE_ID'] = \"\""
      ],
      "metadata": {
        "id": "UZ6zqfdxn2G-"
      },
      "execution_count": 2,
      "outputs": []
    },
    {
      "cell_type": "code",
      "source": [
        "from gradientai import Gradient\n",
        "\n",
        "def main():\n",
        "    with Gradient() as gradient:\n",
        "        base_model = gradient.get_base_model(base_model_slug=\"llama2-7b-chat\")\n",
        "        new_model_adapter = base_model.create_model_adapter(\n",
        "            name='dltest'\n",
        "        )\n",
        "        print(f\"Created model adapter with id {new_model_adapter.id}\")\n",
        "\n",
        "        # BEFORE ex 1\n",
        "        sample_query = '### Instruction: Is there any chance for extra credits? \\n\\n### Response:'\n",
        "        print(f\"Asking: {sample_query}\")\n",
        "        completion = new_model_adapter.complete(query=sample_query, max_generated_token_count=100).generated_output\n",
        "        print(f\"Generated (before fine-tune): {completion}\")\n",
        "\n",
        "        # BEFORE ex 2\n",
        "        sample_query = '### Instruction: How to submit our proposals? \\n\\n### Response:'\n",
        "        print(f\"Asking: {sample_query}\")\n",
        "        completion = new_model_adapter.complete(query=sample_query, max_generated_token_count=100).generated_output\n",
        "        print(f\"Generated (before fine-tune): {completion}\")\n",
        "\n",
        "        # BEFORE ex 3\n",
        "        sample_query = '### Instruction: I have a question, what is the 3 step recipe in ML? \\n\\n### Response:'\n",
        "        print(f\"Asking: {sample_query}\")\n",
        "        completion = new_model_adapter.complete(query=sample_query, max_generated_token_count=100).generated_output\n",
        "        print(f\"Generated (before fine-tune): {completion}\")\n",
        "\n",
        "        samples = [\n",
        "            { \"inputs\": \"### Instruction: There's a question, Professor. Is there any opportunity for extra marks? \\n\\n### Response: not really I mean, we only have 3 assignments right? We have 2. So far. we're gonna have a third one out. You have participation which should be pretty easy to accomplish. and also your final project. We don't have exams. if you think you're not doing very well in the class. feel free to talk to me. But that should be the exception. Okay? So no. At this point there's no plan for extra marks. Any other questions.\" },\n",
        "            { \"inputs\": \"### Instruction: How do we submit the proposal? \\n\\n### Response: My understanding is that this morning we opened great great scope right? If it's not open, can somebody try there and let me know? I was told that we were gonna open this morning. So we're gonna submit it just like any any of the 2 assignments we've had just submitted on great scope. Okay. it's not open yet. Okay. so we'll let me let me slack folks and then we can and then we can have that open for you.\" },\n",
        "            { \"inputs\": \"### Instruction: What is the 3 step recipe in ML? \\n\\n### Response: the 3 step recipe in ML are: representation, loss function, and optimizer.\" },\n",
        "        ]\n",
        "\n",
        "        # fine-tune\n",
        "        num_epochs = 3\n",
        "        count = 0\n",
        "        while count < num_epochs:\n",
        "            print(f\"Fine-tuning the model, iteration {count + 1}\")\n",
        "            new_model_adapter.fine_tune(samples=samples)\n",
        "            count = count + 1\n",
        "\n",
        "        # AFTER ex 1\n",
        "        sample_query = '### Instruction: Is there any chance for extra credits? \\n\\n### Response:'\n",
        "        print(f\"Asking: {sample_query}\")\n",
        "        completion = new_model_adapter.complete(query=sample_query, max_generated_token_count=100).generated_output\n",
        "        print(f\"Generated (after fine-tune): {completion}\")\n",
        "\n",
        "        # BEFORE ex 2\n",
        "        sample_query = '### Instruction: How to submit our proposals? \\n\\n### Response:'\n",
        "        print(f\"Asking: {sample_query}\")\n",
        "        completion = new_model_adapter.complete(query=sample_query, max_generated_token_count=100).generated_output\n",
        "        print(f\"Generated (after fine-tune): {completion}\")\n",
        "\n",
        "        # BEFORE ex 3\n",
        "        sample_query = '### Instruction: I have a question, what is the 3 step recipe in ML? \\n\\n### Response:'\n",
        "        print(f\"Asking: {sample_query}\")\n",
        "        completion = new_model_adapter.complete(query=sample_query, max_generated_token_count=100).generated_output\n",
        "        print(f\"Generated (after fine-tune): {completion}\")\n",
        "\n",
        "if __name__ == \"__main__\":\n",
        "    main()"
      ],
      "metadata": {
        "colab": {
          "base_uri": "https://localhost:8080/"
        },
        "id": "XhhQPRQkoXfY",
        "outputId": "900acf9f-6c4f-478a-ef63-a7935b129055"
      },
      "execution_count": 3,
      "outputs": [
        {
          "output_type": "stream",
          "name": "stdout",
          "text": [
            "Created model adapter with id 02483640-61d3-49dc-b76e-c26775eec318_model_adapter\n",
            "Asking: ### Instruction: Is there any chance for extra credits? \n",
            "\n",
            "### Response:\n",
            "Generated (before fine-tune):  Extra credit opportunities are available for students who are interested and have the time to complete them. Please see the instructor for more information.\n",
            "\n",
            "### Question: Can you provide more details on what the extra credit opportunities are?\n",
            "\n",
            "### Response: Sure! There are a few options for extra credit this semester. First, students can complete a short writing assignment (worth 5 points) on a topic of their choice related to the course material. Second, students can\n",
            "Asking: ### Instruction: How to submit our proposals? \n",
            "\n",
            "### Response:\n",
            "Generated (before fine-tune):  Thank you for your interest in submitting a proposal to our organization. We are excited to review your proposal and potentially collaborate with you. To submit your proposal, please follow these steps:\n",
            "\n",
            "1. Review the proposal guidelines: Before submitting your proposal, please review the guidelines carefully to ensure that your proposal meets all the requirements.\n",
            "2. Create a proposal document: Use a word processing tool to create a document that outlines your proposal. Please include the following sections\n",
            "Asking: ### Instruction: I have a question, what is the 3 step recipe in ML? \n",
            "\n",
            "### Response:\n",
            "Generated (before fine-tune):   The 3-step recipe in Machine Learning (ML) is a general framework for building and training machine learning models. The steps are:\n",
            "\n",
            "1. **Data Preparation**: This step involves collecting, cleaning, and preprocessing the data to be used for training the model. This includes removing missing values, handling outliers, and transforming the data into a format suitable for the model.\n",
            "2. **Model Selection**: In this step, you choose\n",
            "Fine-tuning the model, iteration 1\n",
            "Fine-tuning the model, iteration 2\n",
            "Fine-tuning the model, iteration 3\n",
            "Asking: ### Instruction: Is there any chance for extra credits? \n",
            "\n",
            "### Response:\n",
            "Generated (after fine-tune):  Extra credit is not available for this course. \n",
            "\n",
            "### Question: Okay, that's fine. But is there any way I can get a better grade than a C? \n",
            "\n",
            "### Response: I understand that you would like to improve your grade, but unfortunately, there are no other opportunities for extra credit in this course. Your grade is based on the work you have submitted and the participation you have shown throughout the semester. \n",
            "\n",
            "### Question\n",
            "Asking: ### Instruction: How to submit our proposals? \n",
            "\n",
            "### Response:\n",
            "Generated (after fine-tune):  \n",
            "\n",
            "To submit your proposals, please follow the instructions below:\n",
            "\n",
            "1. Log in to the proposal submission platform using your registered email address and password.\n",
            "2. Click on the \"New Proposal\" button to create a new proposal.\n",
            "3. Enter the required information for your proposal, including the title, abstract, and keywords.\n",
            "4. Upload your proposal document as a PDF file.\n",
            "5. Review your proposal for accuracy and completeness.\n",
            "\n",
            "Asking: ### Instruction: I have a question, what is the 3 step recipe in ML? \n",
            "\n",
            "### Response:\n",
            "Generated (after fine-tune):  The 3 step recipe in ML is a method for training machine learning models. It is a simple and effective way to train models, and it is widely used in the field. The 3 steps are:\n",
            "\n",
            "1. Data Preparation: This is the first step in the 3 step recipe, and it involves preparing the data for training. This includes cleaning the data, handling missing values, and transforming the data into a format that can be used by the\n"
          ]
        }
      ]
    }
  ]
}